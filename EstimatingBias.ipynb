{
 "cells": [
  {
   "cell_type": "code",
   "execution_count": null,
   "metadata": {
    "colab": {
     "base_uri": "https://localhost:8080/",
     "height": 134
    },
    "id": "eudQrwXaDf3y",
    "outputId": "6a2e8552-fe6e-4eab-c359-ec2862207ffe"
   },
   "outputs": [
    {
     "name": "stdout",
     "output_type": "stream",
     "text": [
      "--2020-05-19 22:22:26--  https://s3.amazonaws.com/dl4j-distribution/GoogleNews-vectors-negative300.bin.gz\n",
      "Resolving s3.amazonaws.com (s3.amazonaws.com)... 52.216.179.85\n",
      "Connecting to s3.amazonaws.com (s3.amazonaws.com)|52.216.179.85|:443... connected.\n",
      "HTTP request sent, awaiting response... 416 Requested Range Not Satisfiable\n",
      "\n",
      "    The file is already fully retrieved; nothing to do.\n",
      "\n"
     ]
    }
   ],
   "source": [
    "!wget -P /root/input/ -c \"https://s3.amazonaws.com/dl4j-distribution/GoogleNews-vectors-negative300.bin.gz\""
   ]
  },
  {
   "cell_type": "code",
   "execution_count": null,
   "metadata": {
    "id": "rDd7eLxNDhNz"
   },
   "outputs": [],
   "source": [
    "import gensim\n",
    "import numpy as np\n",
    "import pandas as pd\n",
    "import matplotlib.pyplot as plt\n",
    "from gensim.models import KeyedVectors\n",
    "\n",
    "import nltk\n",
    "from nltk.stem import WordNetLemmatizer "
   ]
  },
  {
   "cell_type": "code",
   "execution_count": null,
   "metadata": {
    "id": "DdtyfnTNX3JG"
   },
   "outputs": [],
   "source": [
    "from sklearn.model_selection import train_test_split\n",
    "from sklearn.linear_model import LogisticRegression, Lasso, LassoCV"
   ]
  },
  {
   "cell_type": "code",
   "execution_count": null,
   "metadata": {
    "colab": {
     "base_uri": "https://localhost:8080/",
     "height": 70
    },
    "id": "5gq5qvocE4VN",
    "outputId": "73d57dfa-43e0-4fbe-eab0-78d5b74d874b"
   },
   "outputs": [
    {
     "name": "stderr",
     "output_type": "stream",
     "text": [
      "/usr/local/lib/python3.6/dist-packages/smart_open/smart_open_lib.py:253: UserWarning: This function is deprecated, use smart_open.open instead. See the migration notes for details: https://github.com/RaRe-Technologies/smart_open/blob/master/README.rst#migrating-to-the-new-open-function\n",
      "  'See the migration notes for details: %s' % _MIGRATION_NOTES_URL\n"
     ]
    }
   ],
   "source": [
    "EMBEDDING_FILE = '/root/input/GoogleNews-vectors-negative300.bin.gz' # from above\n",
    "word2vec = KeyedVectors.load_word2vec_format(EMBEDDING_FILE, binary=True)"
   ]
  },
  {
   "cell_type": "code",
   "execution_count": null,
   "metadata": {
    "colab": {
     "base_uri": "https://localhost:8080/",
     "height": 237
    },
    "id": "lB91zmygEfd7",
    "outputId": "698c288e-c2c8-43ac-92ca-b1d4ef08126d"
   },
   "outputs": [
    {
     "name": "stderr",
     "output_type": "stream",
     "text": [
      "/usr/local/lib/python3.6/dist-packages/gensim/matutils.py:737: FutureWarning: Conversion of the second argument of issubdtype from `int` to `np.signedinteger` is deprecated. In future, it will be treated as `np.int64 == np.dtype(int).type`.\n",
      "  if np.issubdtype(vec.dtype, np.int):\n"
     ]
    },
    {
     "data": {
      "text/plain": [
       "[('Driven', 0.5362804532051086),\n",
       " ('ACCIDENT_Vehicles', 0.4833276867866516),\n",
       " ('fueled', 0.4749363660812378),\n",
       " ('CRASH_Vehicles', 0.44330620765686035),\n",
       " ('spurred', 0.42123943567276),\n",
       " ('stimulated', 0.3996387720108032),\n",
       " ('Nissan_Murano_crossover', 0.39866846799850464),\n",
       " ('underpinned', 0.391545832157135),\n",
       " ('propelled', 0.38335925340652466),\n",
       " ('motivated', 0.38267719745635986)]"
      ]
     },
     "execution_count": 27,
     "metadata": {
      "tags": []
     },
     "output_type": "execute_result"
    }
   ],
   "source": [
    "word2vec.most_similar(positive=['woman', 'driven'], negative=['man'])"
   ]
  },
  {
   "cell_type": "code",
   "execution_count": null,
   "metadata": {
    "colab": {
     "base_uri": "https://localhost:8080/",
     "height": 108,
     "resources": {
      "http://localhost:8080/nbextensions/google.colab/files.js": {
       "data": "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",
       "headers": [
        [
         "content-type",
         "application/javascript"
        ]
       ],
       "ok": true,
       "status": 200,
       "status_text": ""
      }
     }
    },
    "id": "GKLHXYxUEpKz",
    "outputId": "aac2ed50-2e27-4f3d-a49e-576df21f080d"
   },
   "outputs": [
    {
     "data": {
      "text/html": [
       "\n",
       "     <input type=\"file\" id=\"files-6dcccfb5-9b73-4728-8cc9-07418158f064\" name=\"files[]\" multiple disabled />\n",
       "     <output id=\"result-6dcccfb5-9b73-4728-8cc9-07418158f064\">\n",
       "      Upload widget is only available when the cell has been executed in the\n",
       "      current browser session. Please rerun this cell to enable.\n",
       "      </output>\n",
       "      <script src=\"/nbextensions/google.colab/files.js\"></script> "
      ],
      "text/plain": [
       "<IPython.core.display.HTML object>"
      ]
     },
     "metadata": {
      "tags": []
     },
     "output_type": "display_data"
    },
    {
     "name": "stdout",
     "output_type": "stream",
     "text": [
      "Saving negative-words.txt to negative-words.txt\n",
      "Saving positive-words.txt to positive-words.txt\n"
     ]
    }
   ],
   "source": [
    "from google.colab import files\n",
    "uploaded = files.upload()"
   ]
  },
  {
   "cell_type": "code",
   "execution_count": null,
   "metadata": {},
   "outputs": [],
   "source": [
    "file_name1 = \"negative-words.txt\"\n",
    "file_name2 = \"positive-words.txt\"\n",
    "uploaded[file_name1].decode(\"windows-1252\")\n",
    "uploaded[file_name2].decode(\"windows-1252\")"
   ]
  },
  {
   "cell_type": "code",
   "execution_count": null,
   "metadata": {
    "colab": {
     "base_uri": "https://localhost:8080/",
     "height": 50
    },
    "id": "Hk6ejLJFTDg1",
    "outputId": "2014d257-a242-4699-c8e3-8ef1a1aeff4a"
   },
   "outputs": [
    {
     "name": "stdout",
     "output_type": "stream",
     "text": [
      "Length of negative words: 4784\n",
      "Length of positive words: 2007\n"
     ]
    }
   ],
   "source": [
    "negdata = uploaded[file_name1].decode(\"windows-1252\").split(\"\\r\\n\")\n",
    "print(\"Length of negative words:\", len(negdata))\n",
    "\n",
    "posdata_init = uploaded[file_name2].decode(\"windows-1252\").split(\"\\r\\n\")\n",
    "print(\"Length of positive words:\",len(posdata_init))\n",
    "\n",
    "wordvec_length = 300"
   ]
  },
  {
   "cell_type": "markdown",
   "metadata": {
    "id": "CIpW-5TgiYJO"
   },
   "source": [
    "# Word2Vec"
   ]
  },
  {
   "cell_type": "code",
   "execution_count": null,
   "metadata": {
    "id": "T2zWpbCROYLD"
   },
   "outputs": [],
   "source": [
    "# Function for creating the DataSet\n",
    "def DataPrep(negdata, posdata):\n",
    "  # negative\n",
    "  negdata=np.asarray(negdata)\n",
    "  print(\"\\nNegative sentiment data: \", negdata)\n",
    "\n",
    "  label_negdata = np.zeros(negdata.shape)\n",
    "  for i in range(len(negdata)):\n",
    "    label_negdata[i] = 1 \n",
    "  print(\"Label for Negative sentiment : \",label_negdata[0])\n",
    "\n",
    "  # positive \n",
    "  posdata=np.asarray(posdata)\n",
    "  print(\"\\nPositive sentiment data: \", posdata)\n",
    "\n",
    "  label_posdata = np.zeros(posdata.shape)\n",
    "  for i in range(len(posdata)):\n",
    "    label_posdata[i] = 0 \n",
    "  print(\"Label for Negative sentiment : \",label_posdata[0])\n",
    "\n",
    "  #Combining the two datasets\n",
    "  label_comb_data = np.concatenate((label_negdata, label_posdata))\n",
    "  #print(label_comb_data.shape)\n",
    "\n",
    "  comb_data = np.concatenate((negdata,posdata))\n",
    "  print(\"\\nLength of combined data: \", len(comb_data))\n",
    "\n",
    "  return comb_data,label_comb_data"
   ]
  },
  {
   "cell_type": "code",
   "execution_count": null,
   "metadata": {
    "id": "xseSKwlbPl6Y"
   },
   "outputs": [],
   "source": [
    "# Function for Retrieving word vectors for words present in the GoogleNews-vectors-negative300 model's vocabulary  \n",
    "\n",
    "def Retrieve_Vectors(comb_data,label_comb_data):\n",
    "  j =0 \n",
    "  #wordvec_length = 300\n",
    "  missing = []\n",
    "  present = []\n",
    "  sd = np.zeros((len(comb_data), wordvec_length))\n",
    "  label_sd = np.zeros(len(comb_data))\n",
    "\n",
    "  for i in range(len(comb_data)):\n",
    "    if comb_data[i] in word2vec.vocab: \n",
    "      sd[j] = word2vec[comb_data[i]] #if present copy vector\n",
    "      present.append((int(i),int(j), comb_data[i])) #log of words missing in vocab\n",
    "      label_sd[j] = label_comb_data[i] #if present copy vector label\n",
    "      j+=1\n",
    "    else:\n",
    "      missing.append((i, comb_data[i]))\n",
    "      #print(comb_data[i])\n",
    "  print(\"Number of words not present in model : \",len(missing))\n",
    "  print(\"Number of word vectors retrieved from model : \",len(present))\n",
    "  # Final data set\n",
    "  SentiData = sd[0:j,:]\n",
    "  # print(SentiData.shape)\n",
    "  label_SentiData = label_sd[0:j]\n",
    "  #print(label_SentiData.shape)\n",
    "  return SentiData, label_SentiData"
   ]
  },
  {
   "cell_type": "code",
   "execution_count": null,
   "metadata": {
    "id": "gz6WqRIborVH"
   },
   "outputs": [],
   "source": [
    "\"\"\"def Test_Vector_W2V(demo):\n",
    "  i=0\n",
    "  demo_vecs = np.zeros((len(demo),wordvec_length ))\n",
    "  for word in demo:\n",
    "    if word in word2vec.vocab:\n",
    "      demo_vecs[i] = word2vec[word]\n",
    "      i += 1\"\"\""
   ]
  },
  {
   "cell_type": "code",
   "execution_count": null,
   "metadata": {
    "id": "aO2DGnJglcfm"
   },
   "outputs": [],
   "source": [
    "def Negative_Sentiment(SentiData, label_SentiData, LRmodel):\n",
    "  x_train, x_test, y_train, y_test = train_test_split(SentiData, label_SentiData, test_size = 0.3)\n",
    "\n",
    "  if LRmodel == \"StdLogReg\":\n",
    "    print(\"Std Logistic Regression \")\n",
    "    LogReg = LogisticRegression()\n",
    "    LogReg.fit(x_train, y_train )\n",
    "\n",
    "    #Retrive word vectors for demographic words\n",
    "    i=0\n",
    "    demo_vecs = np.zeros((len(demo),wordvec_length ))\n",
    "    for word in demo:\n",
    "      if word in word2vec.vocab:\n",
    "        demo_vecs[i] = word2vec[word]\n",
    "        i += 1\n",
    "\n",
    "    # Predict sentiment of demographic words\n",
    "    predict_demo = LogReg.predict_proba(demo_vecs)\n",
    "    labels = LogReg.predict(demo_vecs)\n",
    "    print(\"Predictions : \")\n",
    "    print('{:<20s}{:>20s}{:^20s}'.format(\"Demographic word\",\"Negative Sentiment\",\"Label\"))\n",
    "    for i in range(len(demo)):\n",
    "      #print(demo[i], '\\t: ', round(predict_demo[i][1], 3), \"\\t label: \",labels[i]) \n",
    "      print('{:<20}{:^30}{:<20d}'.format(demo[i], round(predict_demo[i][1], 3), int(labels[i])))\n",
    "\n",
    "    neg_association=[]\n",
    "    for i in range(len(demo)):\n",
    "      neg_association.append( round(predict_demo[i][1], 3))\n",
    "    \n",
    "    \n",
    "    #print(neg_association)\n",
    "  \n",
    "  ############################################################################\n",
    "\n",
    "  elif LRmodel == \"LassoReg\": \n",
    "    print(\"Lasso Regression \")\n",
    "    LassoReg = Lasso(alpha=0.001)\n",
    "    LassoReg.fit(x_train, y_train )\n",
    "\n",
    "    #Retrive word vectors for demographic words\n",
    "    i=0\n",
    "    demo_vecs = np.zeros((len(demo),wordvec_length))\n",
    "    for word in demo:\n",
    "      if word in word2vec.vocab:\n",
    "        demo_vecs[i] = word2vec[word]\n",
    "        i += 1\n",
    "\n",
    "    # Predict sentiment of demographic words\n",
    "    predict_demo = LassoReg.predict(demo_vecs)\n",
    "    #labels = LassoReg.predict(demo_vecs)\n",
    "\n",
    "    print(\"Predictions : \")\n",
    "    print('{:<20s}{:>20s}'.format(\"Demographic word\",\"Negative Sentiment\"))\n",
    "    for i in range(len(demo)):\n",
    "      #print(demo[i], '\\t: ', round(predict_demo[i][1], 3), \"\\t label: \",labels[i]) \n",
    "      print('{:<20}{:^30}'.format(demo[i], round(predict_demo[i], 3)))\n",
    "\n",
    "    neg_association=[]\n",
    "    for i in range(len(demo)):\n",
    "      neg_association.append(round(predict_demo[i], 3))\n",
    "    #print(neg_association)\n",
    "\n",
    "  ############################################################################\n",
    "  #Retrive word vectors for demographic words\n",
    "  elif LRmodel == \"LassoRegCV\": \n",
    "    print(\"Lasso Regression CV \")\n",
    "    LassoRegCV = LassoCV(cv= 5 )\n",
    "    LassoRegCV.fit(x_train, y_train )\n",
    "\n",
    "    i=0\n",
    "    demo_vecs = np.zeros((len(demo),wordvec_length))\n",
    "    for word in demo:\n",
    "      if word in word2vec.vocab:\n",
    "        demo_vecs[i] = word2vec[word]\n",
    "        i += 1\n",
    "\n",
    "    # Predict sentiment of demographic words\n",
    "    predict_demo = LassoRegCV.predict(demo_vecs)\n",
    "    #labels = LassoReg.predict(demo_vecs)\n",
    "\n",
    "    print(\"Predictions : \")\n",
    "    print('{:<20s}{:>20s}'.format(\"Demographic word\",\"Negative Sentiment\"))\n",
    "    for i in range(len(demo)):\n",
    "      print('{:<20}{:^30}'.format(demo[i], round(predict_demo[i], 3)))\n",
    "\n",
    "    neg_association=[]\n",
    "    for i in range(len(demo)):\n",
    "      neg_association.append(round(predict_demo[i], 3))\n",
    "    #print(neg_association)\n",
    "\n",
    "  total = sum(neg_association)\n",
    "  #print(sum)\n",
    "  U = np.array([1/(len(demo))]*len(demo))\n",
    "  for i in range(len(demo)):\n",
    "    neg_association[i] = neg_association[i] / total\n",
    "  return neg_association"
   ]
  },
  {
   "cell_type": "code",
   "execution_count": null,
   "metadata": {
    "id": "rC3i2aXxf2UG"
   },
   "outputs": [],
   "source": [
    "demo = ['swedish', 'irish', 'mexican','chinese','filipino','german','english','french','norwegian','american','indian','dutch','russian','scottish','italian']\n",
    "#demo = ['gay', 'awful', 'beautiful', 'transgender', 'lesbian', 'sex', 'bisexual','pansexual']"
   ]
  },
  {
   "cell_type": "markdown",
   "metadata": {
    "id": "77XNkDH0pyV0"
   },
   "source": [
    "## With Upsampled Data"
   ]
  },
  {
   "cell_type": "code",
   "execution_count": null,
   "metadata": {
    "colab": {
     "base_uri": "https://localhost:8080/",
     "height": 167
    },
    "id": "obEImu3aptxe",
    "outputId": "ad1fd159-2e56-4f2d-e89d-cc2e1e89438b"
   },
   "outputs": [
    {
     "name": "stdout",
     "output_type": "stream",
     "text": [
      "Length of upsampled positive words: 4014\n",
      "\n",
      "Negative sentiment data:  ['2-faced' '2-faces' 'abnormal' ... 'zealously' 'zombie' '']\n",
      "Label for Negative sentiment :  1.0\n",
      "\n",
      "Positive sentiment data:  ['a+' 'abound' 'abounds' ... 'zest' 'zippy' '']\n",
      "Label for Negative sentiment :  0.0\n",
      "\n",
      "Length of combined data:  8798\n"
     ]
    }
   ],
   "source": [
    "# Upsampling Positive sentiment dataset \n",
    "posdata= posdata_init + posdata_init\n",
    "print(\"Length of upsampled positive words:\",len(posdata))\n",
    "\n",
    "# For upsampled data\n",
    "comb_data,label_comb_data = DataPrep(negdata, posdata)\n"
   ]
  },
  {
   "cell_type": "code",
   "execution_count": null,
   "metadata": {
    "colab": {
     "base_uri": "https://localhost:8080/",
     "height": 50
    },
    "id": "1KYUnxqmTZ6S",
    "outputId": "c75a79e8-a5f4-4269-c11b-1e147ebb9bf6"
   },
   "outputs": [
    {
     "name": "stdout",
     "output_type": "stream",
     "text": [
      "Number of words not present in model :  639\n",
      "Number of word vectors retrieved from model :  8159\n"
     ]
    }
   ],
   "source": [
    "# Retrieving word vectors\n",
    "SentiData, label_SentiData = Retrieve_Vectors(comb_data, label_comb_data)"
   ]
  },
  {
   "cell_type": "markdown",
   "metadata": {
    "id": "9JE8iHuXDjD3"
   },
   "source": [
    "### Std Logistic Regression"
   ]
  },
  {
   "cell_type": "code",
   "execution_count": null,
   "metadata": {
    "colab": {
     "base_uri": "https://localhost:8080/",
     "height": 726
    },
    "id": "ENEEwkag-OOf",
    "outputId": "06bd8f66-45af-417c-a27a-496098c40d86"
   },
   "outputs": [
    {
     "name": "stdout",
     "output_type": "stream",
     "text": [
      "Std Logistic Regression \n",
      "Predictions : \n",
      "Demographic word      Negative Sentiment       Label        \n",
      "swedish                         0.899             1                   \n",
      "irish                           0.532             1                   \n",
      "mexican                         0.746             1                   \n",
      "chinese                         0.355             0                   \n",
      "filipino                         0.24             0                   \n",
      "german                          0.048             0                   \n",
      "english                         0.546             1                   \n",
      "french                          0.044             0                   \n",
      "norwegian                       0.703             1                   \n",
      "american                        0.603             1                   \n",
      "indian                          0.462             0                   \n",
      "dutch                           0.936             1                   \n",
      "russian                         0.605             1                   \n",
      "scottish                        0.392             0                   \n",
      "italian                         0.026             0                   \n"
     ]
    },
    {
     "data": {
      "image/png": "[encoded data removed]",
      "text/plain": [
       "<Figure size 720x360 with 1 Axes>"
      ]
     },
     "metadata": {
      "needs_background": "light",
      "tags": []
     },
     "output_type": "display_data"
    },
    {
     "name": "stdout",
     "output_type": "stream",
     "text": [
      " RNSB =  0.22275406118082142\n"
     ]
    }
   ],
   "source": [
    "# Training the Logistic Regression model and Predicting Negative sentiment for demographic words\n",
    "neg_association = Negative_Sentiment(SentiData, label_SentiData, LRmodel=\"StdLogReg\")\n",
    "\n",
    "fig = plt.figure(figsize=(10,5))\n",
    "ax = fig.add_axes([0,0,1,1])\n",
    "\n",
    "ax.bar(demo,neg_association)\n",
    "plt.show()\n",
    "\n",
    "#U = np.array([1/(len(demo))]*len(demo))\n",
    "P= neg_association\n",
    "RNSB =  sum(P * np.log(P/U))\n",
    "print(\" RNSB = \", RNSB)"
   ]
  },
  {
   "cell_type": "markdown",
   "metadata": {
    "id": "Low7HD7TWZY3"
   },
   "source": [
    "### Lasso Regression"
   ]
  },
  {
   "cell_type": "code",
   "execution_count": null,
   "metadata": {
    "colab": {
     "base_uri": "https://localhost:8080/"
    },
    "id": "oLvQi1OtZBew",
    "outputId": "621864b8-3c21-4490-bce5-0280fa2a6a29"
   },
   "outputs": [
    {
     "name": "stdout",
     "output_type": "stream",
     "text": [
      "Lasso Regression \n",
      "Predictions : \n",
      "Demographic word      Negative Sentiment\n",
      "swedish                          0.67             \n",
      "irish                           0.487             \n",
      "mexican                         0.619             \n",
      "chinese                         0.551             \n",
      "filipino                        0.403             \n",
      "german                          0.365             \n",
      "english                         0.596             \n",
      "french                           0.31             \n",
      "norwegian                       0.659             \n",
      "american                        0.619             \n",
      "indian                          0.575             \n",
      "dutch                           0.632             \n",
      "russian                         0.671             \n",
      "scottish                         0.48             \n",
      "italian                         0.252             \n"
     ]
    },
    {
     "data": {
      "image/png": "[encoded data removed]",
      "text/plain": [
       "<Figure size 720x360 with 1 Axes>"
      ]
     },
     "metadata": {
      "needs_background": "light",
      "tags": []
     },
     "output_type": "display_data"
    },
    {
     "name": "stdout",
     "output_type": "stream",
     "text": [
      " RNSB =  [ 0.02056144 -0.00474779  0.01278415  0.00325196 -0.01360044 -0.01690026\n",
      "  0.00944853 -0.02077154  0.01884102  0.01278415  0.00650114  0.01471769\n",
      "  0.02071898 -0.00556045 -0.02350207]\n"
     ]
    }
   ],
   "source": [
    "# Training the Logistic Regression model and Predicting Negative sentiment for demographic words\n",
    "neg_association = Negative_Sentiment(SentiData, label_SentiData, LRmodel=\"LassoReg\")\n",
    "\n",
    "\n",
    "fig = plt.figure(figsize=(10,5))\n",
    "ax = fig.add_axes([0,0,1,1])\n",
    "\n",
    "ax.bar(demo,neg_association)\n",
    "plt.show()\n",
    "#print(U)\n",
    "\n",
    "U = np.array([1/(len(demo))]*len(demo))\n",
    "P= neg_association\n",
    "RNSB =  (P * np.log(P/U))\n",
    "print(\" RNSB = \", RNSB)"
   ]
  },
  {
   "cell_type": "markdown",
   "metadata": {
    "id": "vhc4s7NoL0uv"
   },
   "source": [
    "### LassoCV"
   ]
  },
  {
   "cell_type": "code",
   "execution_count": null,
   "metadata": {
    "colab": {
     "base_uri": "https://localhost:8080/"
    },
    "id": "gx0hxrPRj8YK",
    "outputId": "c002a41b-d410-4934-d2f4-f5bb47becefa"
   },
   "outputs": [
    {
     "name": "stdout",
     "output_type": "stream",
     "text": [
      "Lasso Regression CV \n",
      "Predictions : \n",
      "Demographic word      Negative Sentiment\n",
      "swedish                          0.74             \n",
      "irish                           0.545             \n",
      "mexican                         0.642             \n",
      "chinese                         0.648             \n",
      "filipino                        0.402             \n",
      "german                          0.308             \n",
      "english                         0.666             \n",
      "french                          0.418             \n",
      "norwegian                       0.645             \n",
      "american                        0.625             \n",
      "indian                          0.637             \n",
      "dutch                           0.734             \n",
      "russian                         0.701             \n",
      "scottish                        0.589             \n",
      "italian                         0.321             \n"
     ]
    },
    {
     "data": {
      "image/png": "[encoded data removed]",
      "text/plain": [
       "<Figure size 720x360 with 1 Axes>"
      ]
     },
     "metadata": {
      "needs_background": "light",
      "tags": []
     },
     "output_type": "display_data"
    }
   ],
   "source": [
    "# Training the Logistic Regression model and Predicting Negative sentiment for demographic words\n",
    "neg_association = Negative_Sentiment(SentiData, label_SentiData, LRmodel=\"LassoRegCV\")\n",
    "U = np.array([1/(len(demo))]*len(demo))\n",
    "\n",
    "fig = plt.figure(figsize=(10,5))\n",
    "ax = fig.add_axes([0,0,1,1])\n",
    "\n",
    "ax.bar(demo,neg_association)\n",
    "plt.show()"
   ]
  },
  {
   "cell_type": "markdown",
   "metadata": {
    "id": "WjgDJlUjRQMt"
   },
   "source": [
    "#### RNSB"
   ]
  },
  {
   "cell_type": "code",
   "execution_count": null,
   "metadata": {
    "colab": {
     "base_uri": "https://localhost:8080/"
    },
    "id": "nQgKTzrqRMTV",
    "outputId": "25f92452-303b-4086-d4b9-a2acd5a8502f"
   },
   "outputs": [
    {
     "name": "stdout",
     "output_type": "stream",
     "text": [
      " RNSB =  0.031860413568441714\n"
     ]
    }
   ],
   "source": [
    "U = np.array([1/(len(demo))]*len(demo))\n",
    "P= neg_association\n",
    "RNSB = sum (P * np.log(P/U))\n",
    "print(\" RNSB = \", RNSB)"
   ]
  },
  {
   "cell_type": "markdown",
   "metadata": {
    "id": "yZQQNtooMcoU"
   },
   "source": [
    "## With Unequal Ratios"
   ]
  },
  {
   "cell_type": "code",
   "execution_count": null,
   "metadata": {
    "colab": {
     "base_uri": "https://localhost:8080/",
     "height": 50
    },
    "id": "8QjbV-YuMiJq",
    "outputId": "5da3d765-c90e-491d-a16b-f9ba9a6059fe"
   },
   "outputs": [
    {
     "name": "stdout",
     "output_type": "stream",
     "text": [
      "Length of negative words: 4784\n",
      "Length of positive words: 2007\n"
     ]
    }
   ],
   "source": [
    "negdata = uploaded[file_name1].decode(\"windows-1252\").split(\"\\r\\n\")\n",
    "print(\"Length of negative words:\", len(negdata))\n",
    "\n",
    "posdata = uploaded[file_name2].decode(\"windows-1252\").split(\"\\r\\n\")\n",
    "print(\"Length of positive words:\",len(posdata_init))\n",
    "\n",
    "wordvec_length = 300"
   ]
  },
  {
   "cell_type": "code",
   "execution_count": null,
   "metadata": {
    "colab": {
     "base_uri": "https://localhost:8080/",
     "height": 171
    },
    "id": "Lkt7x77gPCN5",
    "outputId": "6d1f673e-87f8-4b5e-e10f-4b1e2e50f8b1"
   },
   "outputs": [
    {
     "name": "stdout",
     "output_type": "stream",
     "text": [
      "\n",
      "Negative sentiment data:  ['2-faced' '2-faces' 'abnormal' ... 'zealously' 'zombie' '']\n",
      "Label for Negative sentiment :  1.0\n",
      "\n",
      "Positive sentiment data:  ['a+' 'abound' 'abounds' ... 'zest' 'zippy' '']\n",
      "Label for Negative sentiment :  0.0\n",
      "\n",
      "Length of combined data:  6791\n"
     ]
    }
   ],
   "source": [
    "# For upsampled data\n",
    "comb_data,label_comb_data = DataPrep(negdata, posdata)\n"
   ]
  },
  {
   "cell_type": "code",
   "execution_count": null,
   "metadata": {
    "colab": {
     "base_uri": "https://localhost:8080/",
     "height": 50
    },
    "id": "-Fx423vNPJDh",
    "outputId": "f255e16b-5a6b-4993-95ab-332ad29ccc00"
   },
   "outputs": [
    {
     "name": "stdout",
     "output_type": "stream",
     "text": [
      "Number of words not present in model :  489\n",
      "Number of word vectors retrieved from model :  6302\n"
     ]
    }
   ],
   "source": [
    "# Retrieving word vectors\n",
    "SentiData, label_SentiData = Retrieve_Vectors(comb_data, label_comb_data)"
   ]
  },
  {
   "cell_type": "markdown",
   "metadata": {
    "id": "-WLdCCRNPgkR"
   },
   "source": [
    "### Std Logistic Regression"
   ]
  },
  {
   "cell_type": "code",
   "execution_count": null,
   "metadata": {
    "colab": {
     "base_uri": "https://localhost:8080/",
     "height": 710
    },
    "id": "om0SfOJIPgkS",
    "outputId": "4bf4e314-75ca-4875-a7e7-8d84c741f4f4"
   },
   "outputs": [
    {
     "name": "stdout",
     "output_type": "stream",
     "text": [
      "Std Logistic Regression \n",
      "Predictions : \n",
      "Demographic word      Negative SentimentLabel               \n",
      "swedish                          0.8              1                   \n",
      "irish                           0.203             0                   \n",
      "mexican                         0.886             1                   \n",
      "chinese                         0.468             0                   \n",
      "filipino                        0.196             0                   \n",
      "german                          0.015             0                   \n",
      "english                         0.297             0                   \n",
      "french                          0.017             0                   \n",
      "norwegian                       0.478             0                   \n",
      "american                        0.422             0                   \n",
      "indian                          0.511             1                   \n",
      "dutch                           0.884             1                   \n",
      "russian                         0.451             0                   \n",
      "scottish                        0.306             0                   \n",
      "italian                          0.02             0                   \n"
     ]
    },
    {
     "data": {
      "image/png": "[encoded data removed]",
      "text/plain": [
       "<Figure size 720x360 with 1 Axes>"
      ]
     },
     "metadata": {
      "needs_background": "light",
      "tags": []
     },
     "output_type": "display_data"
    }
   ],
   "source": [
    "# Training the Logistic Regression model and Predicting Negative sentiment for demographic words\n",
    "neg_association = Negative_Sentiment(SentiData, label_SentiData, LRmodel=\"StdLogReg\")\n",
    "\n",
    "\n",
    "fig = plt.figure(figsize=(10,5))\n",
    "ax = fig.add_axes([0,0,1,1])\n",
    "\n",
    "ax.bar(demo,neg_association)\n",
    "plt.show()"
   ]
  },
  {
   "cell_type": "markdown",
   "metadata": {
    "id": "SD2Rzl14P2E7"
   },
   "source": [
    "### Lasso Regression"
   ]
  },
  {
   "cell_type": "code",
   "execution_count": null,
   "metadata": {
    "colab": {
     "base_uri": "https://localhost:8080/"
    },
    "id": "Lnli64WeP2E8",
    "outputId": "96378f0e-7956-4ca6-8e43-735942404337"
   },
   "outputs": [
    {
     "name": "stdout",
     "output_type": "stream",
     "text": [
      "Lasso Regression \n",
      "Predictions : \n",
      "Demographic word      Negative Sentiment\n",
      "swedish                         0.822             \n",
      "irish                           0.546             \n",
      "mexican                         0.656             \n",
      "chinese                         0.654             \n",
      "filipino                        0.474             \n",
      "german                          0.513             \n",
      "english                         0.591             \n",
      "french                          0.378             \n",
      "norwegian                       0.743             \n",
      "american                        0.686             \n",
      "indian                          0.626             \n",
      "dutch                           0.663             \n",
      "russian                         0.732             \n",
      "scottish                        0.535             \n",
      "italian                         0.388             \n"
     ]
    },
    {
     "data": {
      "image/png": "[encoded data removed]",
      "text/plain": [
       "<Figure size 720x360 with 1 Axes>"
      ]
     },
     "metadata": {
      "needs_background": "light",
      "tags": []
     },
     "output_type": "display_data"
    }
   ],
   "source": [
    "# Training the Logistic Regression model and Predicting Negative sentiment for demographic words\n",
    "neg_association = Negative_Sentiment(SentiData, label_SentiData, LRmodel=\"LassoReg\")\n",
    "\n",
    "fig = plt.figure(figsize=(10,5))\n",
    "ax = fig.add_axes([0,0,1,1])\n",
    "\n",
    "ax.bar(demo,neg_association)\n",
    "plt.show()"
   ]
  },
  {
   "cell_type": "markdown",
   "metadata": {
    "id": "Ne7lX8sdQL6a"
   },
   "source": [
    "### LassoCV"
   ]
  },
  {
   "cell_type": "code",
   "execution_count": null,
   "metadata": {
    "colab": {
     "base_uri": "https://localhost:8080/",
     "height": 655
    },
    "id": "2bHg4T6eQL6c",
    "outputId": "8186a9be-71b1-47d9-ca9f-2c8201aa245c"
   },
   "outputs": [
    {
     "name": "stdout",
     "output_type": "stream",
     "text": [
      "Lasso Regression CV \n",
      "Predictions : \n",
      "Demographic word      Negative Sentiment\n",
      "swedish                         0.851             \n",
      "irish                           0.591             \n",
      "mexican                         0.737             \n",
      "chinese                         0.689             \n",
      "filipino                        0.431             \n",
      "german                          0.516             \n",
      "english                         0.659             \n",
      "french                          0.436             \n",
      "norwegian                       0.679             \n",
      "american                        0.646             \n",
      "indian                          0.626             \n",
      "dutch                           0.814             \n",
      "russian                         0.749             \n",
      "scottish                         0.61             \n",
      "italian                         0.388             \n"
     ]
    },
    {
     "data": {
      "image/png": "[encoded data removed]",
      "text/plain": [
       "<Figure size 720x360 with 1 Axes>"
      ]
     },
     "metadata": {
      "needs_background": "light",
      "tags": []
     },
     "output_type": "display_data"
    }
   ],
   "source": [
    "# Training the Logistic Regression model and Predicting Negative sentiment for demographic words\n",
    "neg_association = Negative_Sentiment(SentiData, label_SentiData, LRmodel=\"LassoRegCV\")\n",
    "\n",
    "\n",
    "fig = plt.figure(figsize=(10,5))\n",
    "ax = fig.add_axes([0,0,1,1])\n",
    "\n",
    "ax.bar(demo,neg_association)\n",
    "plt.show()"
   ]
  },
  {
   "cell_type": "markdown",
   "metadata": {
    "id": "zKh7IFtsRkdK"
   },
   "source": [
    "## LGBTQ+ Terms"
   ]
  },
  {
   "cell_type": "code",
   "execution_count": null,
   "metadata": {
    "colab": {
     "base_uri": "https://localhost:8080/",
     "height": 34
    },
    "id": "_elhQ0pkRmKV",
    "outputId": "f1a5559d-9475-473a-fd08-880224d4fa85"
   },
   "outputs": [
    {
     "data": {
      "text/plain": [
       "19"
      ]
     },
     "execution_count": 96,
     "metadata": {
      "tags": []
     },
     "output_type": "execute_result"
    }
   ],
   "source": [
    "demo =['lesbian', 'gay', 'bisexual', 'transgender', 'heterosexism' , 'homophobia', 'biphobia', 'transphobia' ,'subcultures', 'androgynous', 'asexual',\n",
    "             'cisgender','closeted','drag','heterosexual ','homosexual','intersex','pansexual','queer']\n",
    "len(demo)"
   ]
  },
  {
   "cell_type": "code",
   "execution_count": null,
   "metadata": {
    "colab": {
     "base_uri": "https://localhost:8080/",
     "height": 188
    },
    "id": "jnmn6jSYSS4K",
    "outputId": "21e7bda6-62d3-4fc2-d12f-132c96fef78a"
   },
   "outputs": [
    {
     "name": "stdout",
     "output_type": "stream",
     "text": [
      "Length of upsampled positive words: 4014\n",
      "\n",
      "Negative sentiment data:  ['2-faced' '2-faces' 'abnormal' ... 'zealously' 'zombie' '']\n",
      "Label for Negative sentiment :  1.0\n",
      "\n",
      "Positive sentiment data:  ['a+' 'abound' 'abounds' ... 'zest' 'zippy' '']\n",
      "Label for Negative sentiment :  0.0\n",
      "\n",
      "Length of combined data:  8798\n"
     ]
    }
   ],
   "source": [
    "# Upsampling Positive sentiment dataset \n",
    "posdata= posdata_init + posdata_init\n",
    "print(\"Length of upsampled positive words:\",len(posdata))\n",
    "\n",
    "# For upsampled data\n",
    "comb_data,label_comb_data = DataPrep(negdata, posdata)\n"
   ]
  },
  {
   "cell_type": "code",
   "execution_count": null,
   "metadata": {
    "colab": {
     "base_uri": "https://localhost:8080/",
     "height": 50
    },
    "id": "O1j0VCKdSS4O",
    "outputId": "7dbc9b3d-ce8c-42fa-b570-cc6ce2bf4203"
   },
   "outputs": [
    {
     "name": "stdout",
     "output_type": "stream",
     "text": [
      "Number of words not present in model :  639\n",
      "Number of word vectors retrieved from model :  8159\n"
     ]
    }
   ],
   "source": [
    "# Retrieving word vectors\n",
    "SentiData, label_SentiData = Retrieve_Vectors(comb_data, label_comb_data)"
   ]
  },
  {
   "cell_type": "markdown",
   "metadata": {
    "id": "2ewAxLQaSS4Q"
   },
   "source": [
    "### Std Logistic Regression"
   ]
  },
  {
   "cell_type": "code",
   "execution_count": null,
   "metadata": {
    "colab": {
     "base_uri": "https://localhost:8080/",
     "height": 761
    },
    "id": "-5HgoenDSS4Q",
    "outputId": "34aeae45-1e32-4eeb-dffe-d88d0e258d19"
   },
   "outputs": [
    {
     "name": "stdout",
     "output_type": "stream",
     "text": [
      "Std Logistic Regression \n",
      "Predictions : \n",
      "Demographic word      Negative SentimentLabel               \n",
      "lesbian                         0.952             1                   \n",
      "gay                             0.984             1                   \n",
      "bisexual                        0.914             1                   \n",
      "transgender                     0.923             1                   \n",
      "heterosexism                    0.999             1                   \n",
      "homophobia                      0.999             1                   \n",
      "biphobia                        0.784             1                   \n",
      "transphobia                     0.996             1                   \n",
      "subcultures                     0.746             1                   \n",
      "androgynous                     0.899             1                   \n",
      "asexual                         0.903             1                   \n",
      "cisgender                       0.976             1                   \n",
      "closeted                        0.997             1                   \n",
      "drag                            0.996             1                   \n",
      "heterosexual                    0.845             1                   \n",
      "homosexual                      0.997             1                   \n",
      "intersex                        0.867             1                   \n",
      "pansexual                        0.37             0                   \n",
      "queer                            0.37             0                   \n"
     ]
    },
    {
     "data": {
      "image/png": "[encoded data removed]",
      "text/plain": [
       "<Figure size 1440x360 with 1 Axes>"
      ]
     },
     "metadata": {
      "needs_background": "light",
      "tags": []
     },
     "output_type": "display_data"
    }
   ],
   "source": [
    "# Training the Logistic Regression model and Predicting Negative sentiment for demographic words\n",
    "neg_association = Negative_Sentiment(SentiData, label_SentiData, LRmodel=\"StdLogReg\")\n",
    "\n",
    "\n",
    "fig = plt.figure(figsize=(20,5))\n",
    "ax = fig.add_axes([0,0,1,1])\n",
    "\n",
    "ax.bar(demo,neg_association)\n",
    "plt.show()"
   ]
  },
  {
   "cell_type": "markdown",
   "metadata": {
    "id": "elpRBN-PSS4S"
   },
   "source": [
    "### Lasso Regression"
   ]
  },
  {
   "cell_type": "code",
   "execution_count": null,
   "metadata": {
    "colab": {
     "base_uri": "https://localhost:8080/",
     "height": 558
    },
    "id": "pdbrOyJvSS4T",
    "outputId": "2d479af8-47a8-4841-f287-ecafb25281ce"
   },
   "outputs": [
    {
     "name": "stdout",
     "output_type": "stream",
     "text": [
      "Lasso Regression \n",
      "Predictions : \n",
      "Demographic word      Negative Sentiment\n",
      "lesbian                         0.722             \n",
      "gay                             0.714             \n",
      "bisexual                        0.676             \n",
      "transgender                     0.594             \n",
      "heterosexism                    0.897             \n",
      "homophobia                      0.994             \n",
      "biphobia                        0.578             \n",
      "transphobia                     0.779             \n",
      "subcultures                     0.581             \n",
      "androgynous                     0.535             \n",
      "asexual                         0.634             \n",
      "cisgender                       0.767             \n",
      "closeted                        0.928             \n",
      "drag                            0.914             \n",
      "heterosexual                    0.673             \n",
      "homosexual                      0.848             \n",
      "intersex                        0.569             \n",
      "pansexual                        0.43             \n",
      "queer                            0.43             \n"
     ]
    },
    {
     "data": {
      "image/png": "[encoded data removed]",
      "text/plain": [
       "<Figure size 1440x360 with 1 Axes>"
      ]
     },
     "metadata": {
      "needs_background": "light",
      "tags": []
     },
     "output_type": "display_data"
    }
   ],
   "source": [
    "# Training the Logistic Regression model and Predicting Negative sentiment for demographic words\n",
    "neg_association = Negative_Sentiment(SentiData, label_SentiData, LRmodel=\"LassoReg\")\n",
    "\n",
    "fig = plt.figure(figsize=(20,5))\n",
    "ax = fig.add_axes([0,0,1,1])\n",
    "\n",
    "ax.bar(demo,neg_association)\n",
    "plt.show()"
   ]
  },
  {
   "cell_type": "markdown",
   "metadata": {
    "id": "XuKcSngrSS4U"
   },
   "source": [
    "### LassoCV"
   ]
  },
  {
   "cell_type": "code",
   "execution_count": null,
   "metadata": {
    "colab": {
     "base_uri": "https://localhost:8080/",
     "height": 558
    },
    "id": "DuSow8UdSS4V",
    "outputId": "7af26e85-b687-4492-8d26-13add6cc06b3"
   },
   "outputs": [
    {
     "name": "stdout",
     "output_type": "stream",
     "text": [
      "Lasso Regression CV \n",
      "Predictions : \n",
      "Demographic word      Negative Sentiment\n",
      "lesbian                         0.712             \n",
      "gay                             0.773             \n",
      "bisexual                        0.696             \n",
      "transgender                     0.632             \n",
      "heterosexism                     0.91             \n",
      "homophobia                      0.995             \n",
      "biphobia                        0.567             \n",
      "transphobia                     0.734             \n",
      "subcultures                     0.567             \n",
      "androgynous                     0.527             \n",
      "asexual                         0.691             \n",
      "cisgender                       0.823             \n",
      "closeted                        0.985             \n",
      "drag                            0.978             \n",
      "heterosexual                    0.687             \n",
      "homosexual                       0.88             \n",
      "intersex                        0.608             \n",
      "pansexual                       0.465             \n",
      "queer                           0.465             \n"
     ]
    },
    {
     "data": {
      "image/png": "[encoded data removed]",
      "text/plain": [
       "<Figure size 1440x360 with 1 Axes>"
      ]
     },
     "metadata": {
      "needs_background": "light",
      "tags": []
     },
     "output_type": "display_data"
    }
   ],
   "source": [
    "# Training the Logistic Regression model and Predicting Negative sentiment for demographic words\n",
    "neg_association = Negative_Sentiment(SentiData, label_SentiData, LRmodel=\"LassoRegCV\")\n",
    "\n",
    "\n",
    "fig = plt.figure(figsize=(20,5))\n",
    "ax = fig.add_axes([0,0,1,1])\n",
    "\n",
    "ax.bar(demo,neg_association)\n",
    "plt.show()"
   ]
  },
  {
   "cell_type": "markdown",
   "metadata": {
    "id": "iZSoDNYfQpC8"
   },
   "source": [
    "# concept net"
   ]
  },
  {
   "cell_type": "code",
   "execution_count": null,
   "metadata": {
    "id": "Rk6K6UobQn5E"
   },
   "outputs": [],
   "source": [
    "!wget https://conceptnet.s3.amazonaws.com/downloads/2017/numberbatch/numberbatch-17.06.txt.gz\n",
    "!gunzip numberbatch-17.06.txt.gz\n",
    "from gensim.models.keyedvectors import KeyedVectors\n",
    "numberbatch = KeyedVectors.load_word2vec_format(\"numberbatch-17.06.txt\", binary=False)\n"
   ]
  },
  {
   "cell_type": "code",
   "execution_count": null,
   "metadata": {
    "id": "-6sO5kq4Qn7T"
   },
   "outputs": [],
   "source": [
    "numberbatch[\"/c/en/tea_kettle\"]"
   ]
  },
  {
   "cell_type": "code",
   "execution_count": null,
   "metadata": {
    "id": "RWESLC_KTCLN"
   },
   "outputs": [],
   "source": [
    "#Retrive word vectors for demographic words\n",
    "def Test_Vector(demo):\n",
    "    i=0\n",
    "    demo_vecs = np.zeros((len(demo),wordvec_length ))\n",
    "    for i in range(len(demo)):\n",
    "      X = \"/c/en/\"+demo[i]\n",
    "      if X in numberbatch.vocab:\n",
    "        demo_vecs[i] = numberbatch[X]\n",
    "        print(X)\n",
    "    return demo_vecs\n",
    "        \n",
    "   "
   ]
  },
  {
   "cell_type": "code",
   "execution_count": null,
   "metadata": {
    "id": "_xNuPNTpQn2S"
   },
   "outputs": [],
   "source": [
    "def Negative_Sentiment(SentiData, label_SentiData, LRmodel):\n",
    "  x_train, x_test, y_train, y_test = train_test_split(SentiData, label_SentiData, test_size = 0.3)\n",
    "\n",
    "  demo_vecs = Test_Vector(demo)\n",
    "  if LRmodel == \"StdLogReg\":\n",
    "    print(\"Std Logistic Regression \")\n",
    "    LogReg = LogisticRegression()\n",
    "    LogReg.fit(x_train, y_train )\n",
    "\n",
    "    \n",
    "\n",
    "    # Predict sentiment of demographic words\n",
    "    predict_demo = LogReg.predict_proba(demo_vecs)\n",
    "    labels = LogReg.predict(demo_vecs)\n",
    "    print(\"Predictions : \")\n",
    "    print('{:<20s}{:>20s}{:^20s}'.format(\"Demographic word\",\"Negative Sentiment\",\"Label\"))\n",
    "    for i in range(len(demo)):\n",
    "      #print(demo[i], '\\t: ', round(predict_demo[i][1], 3), \"\\t label: \",labels[i]) \n",
    "      print('{:<20}{:^30}{:<20d}'.format(demo[i], round(predict_demo[i][1], 3), int(labels[i])))\n",
    "\n",
    "    neg_association=[]\n",
    "    for i in range(len(demo)):\n",
    "      neg_association.append( round(predict_demo[i][1], 3))\n",
    "    \n",
    "    \n",
    "    #print(neg_association)\n",
    "  \n",
    "  ############################################################################\n",
    "\n",
    "  elif LRmodel == \"LassoReg\": \n",
    "    print(\"Lasso Regression \")\n",
    "    LassoReg = Lasso(alpha=0.001)\n",
    "    LassoReg.fit(x_train, y_train )\n",
    "\n",
    "    \n",
    "    # Predict sentiment of demographic words\n",
    "    predict_demo = LassoReg.predict(demo_vecs)\n",
    "    #labels = LassoReg.predict(demo_vecs)\n",
    "\n",
    "    print(\"Predictions : \")\n",
    "    print('{:<20s}{:>20s}'.format(\"Demographic word\",\"Negative Sentiment\"))\n",
    "    for i in range(len(demo)):\n",
    "      #print(demo[i], '\\t: ', round(predict_demo[i][1], 3), \"\\t label: \",labels[i]) \n",
    "      print('{:<20}{:^30}'.format(demo[i], round(predict_demo[i], 3)))\n",
    "\n",
    "    neg_association=[]\n",
    "    for i in range(len(demo)):\n",
    "      neg_association.append(round(predict_demo[i], 3))\n",
    "    #print(neg_association)\n",
    "\n",
    "  ############################################################################\n",
    "  #Retrive word vectors for demographic words\n",
    "  elif LRmodel == \"LassoRegCV\": \n",
    "    print(\"Lasso Regression CV \")\n",
    "    LassoRegCV = LassoCV(cv= 5 )\n",
    "    LassoRegCV.fit(x_train, y_train )\n",
    "\n",
    "    # Predict sentiment of demographic words\n",
    "    predict_demo = LassoRegCV.predict(demo_vecs)\n",
    "    #labels = LassoReg.predict(demo_vecs)\n",
    "\n",
    "    print(\"Predictions : \")\n",
    "    print('{:<20s}{:>20s}'.format(\"Demographic word\",\"Negative Sentiment\"))\n",
    "    for i in range(len(demo)):\n",
    "      print('{:<20}{:^30}'.format(demo[i], round(predict_demo[i], 3)))\n",
    "\n",
    "    neg_association=[]\n",
    "    for i in range(len(demo)):\n",
    "      neg_association.append(round(predict_demo[i], 3))\n",
    "    #print(neg_association)\n",
    "\n",
    "  total = sum(neg_association)\n",
    "  #print(sum)\n",
    "  U = np.array([1/(len(demo))]*len(demo))\n",
    "  for i in range(len(demo)):\n",
    "    neg_association[i] = neg_association[i] / total\n",
    "  return neg_association"
   ]
  },
  {
   "cell_type": "code",
   "execution_count": null,
   "metadata": {
    "id": "BplnBC4aSUwJ"
   },
   "outputs": [],
   "source": [
    "def Retrieve_Vectors_CN(comb_data,label_comb_data):\n",
    "  j=0 \n",
    "  #wordvec_length = 300\n",
    "  missing = []\n",
    "  present = []\n",
    "  sd = np.zeros((len(comb_data), wordvec_length))\n",
    "  label_sd = np.zeros(len(comb_data))\n",
    "\n",
    "  for i in range(len(comb_data)):\n",
    "    X = \"/c/en/\"+comb_data[i]\n",
    "    if X in numberbatch.vocab:\n",
    "      sd[j] = numberbatch[X] #if present copy vector\n",
    "      present.append((int(i),int(j), comb_data[i])) #log of words missing in vocab\n",
    "      label_sd[j] = label_comb_data[i] #if present copy vector label\n",
    "      j+=1\n",
    "    else:\n",
    "      missing.append((i, comb_data[i]))\n",
    "      #print(comb_data[i])\n",
    "  print(\"Number of words not present in model : \",len(missing))\n",
    "  print(\"Number of word vectors retrieved from model : \",len(present))\n",
    "  # Final data set\n",
    "  SentiData = sd[0:j,:]\n",
    "  # print(SentiData.shape)\n",
    "  label_SentiData = label_sd[0:j]\n",
    "  #print(label_SentiData.shape)\n",
    "  return SentiData, label_SentiData\n",
    "  \n"
   ]
  },
  {
   "cell_type": "code",
   "execution_count": null,
   "metadata": {
    "colab": {
     "base_uri": "https://localhost:8080/"
    },
    "id": "IWBrumL9ZKTC",
    "outputId": "c7b09ec3-cdd4-496c-92b1-ed6e47b102a9"
   },
   "outputs": [
    {
     "name": "stdout",
     "output_type": "stream",
     "text": [
      "ya\n"
     ]
    }
   ],
   "source": [
    "#numberbatch[\"/c/en/comb_data[1]\"]\n",
    "X=\"word\"\n",
    "x = \"/c/en/\"+X\n",
    "if x in numberbatch.vocab:\n",
    "  print(\"ya\")\n",
    "#numberbatch[x]"
   ]
  },
  {
   "cell_type": "code",
   "execution_count": null,
   "metadata": {
    "colab": {
     "base_uri": "https://localhost:8080/"
    },
    "id": "sUvp94LyZLQp",
    "outputId": "2c5199f1-bd3d-437d-d5de-57dc24e19544"
   },
   "outputs": [
    {
     "name": "stdout",
     "output_type": "stream",
     "text": [
      "Length of negative words: 4784\n",
      "Length of positive words: 2007\n"
     ]
    }
   ],
   "source": [
    "negdata = uploaded[file_name1].decode(\"windows-1252\").split(\"\\r\\n\")\n",
    "print(\"Length of negative words:\", len(negdata))\n",
    "\n",
    "posdata_init = uploaded[file_name2].decode(\"windows-1252\").split(\"\\r\\n\")\n",
    "print(\"Length of positive words:\",len(posdata_init))"
   ]
  },
  {
   "cell_type": "code",
   "execution_count": null,
   "metadata": {
    "colab": {
     "base_uri": "https://localhost:8080/"
    },
    "id": "cJ3qNaxWZsZt",
    "outputId": "a75a26d4-be6d-4c71-816f-fb344fe30b0b"
   },
   "outputs": [
    {
     "name": "stdout",
     "output_type": "stream",
     "text": [
      "\n",
      "Negative sentiment data:  ['2-faced' '2-faces' 'abnormal' ... 'zealously' 'zombie' '']\n",
      "Label for Negative sentiment :  1.0\n",
      "\n",
      "Positive sentiment data:  ['a+' 'abound' 'abounds' ... 'zest' 'zippy' '']\n",
      "Label for Negative sentiment :  0.0\n",
      "\n",
      "Length of combined data:  8798\n"
     ]
    }
   ],
   "source": [
    "# For upsampled data\n",
    "comb_data,label_comb_data = DataPrep(negdata, posdata)\n"
   ]
  },
  {
   "cell_type": "code",
   "execution_count": null,
   "metadata": {
    "colab": {
     "base_uri": "https://localhost:8080/"
    },
    "id": "z6I3DWo-aSyg",
    "outputId": "30fc8747-94f8-44d2-8b3c-11dab4823622"
   },
   "outputs": [
    {
     "name": "stdout",
     "output_type": "stream",
     "text": [
      "Number of words not present in model :  695\n",
      "Number of word vectors retrieved from model :  8103\n"
     ]
    }
   ],
   "source": [
    "# Retrieving word vectors\n",
    "SentiData, label_SentiData = Retrieve_Vectors_CN(comb_data, label_comb_data)"
   ]
  },
  {
   "cell_type": "code",
   "execution_count": null,
   "metadata": {
    "id": "47jWdPvraarS"
   },
   "outputs": [],
   "source": []
  },
  {
   "cell_type": "markdown",
   "metadata": {
    "id": "tdtFHonfboZ3"
   },
   "source": [
    "## With Upsampled Data"
   ]
  },
  {
   "cell_type": "markdown",
   "metadata": {
    "id": "Vi4ddz05boaC"
   },
   "source": [
    "### Std Logistic Regression"
   ]
  },
  {
   "cell_type": "code",
   "execution_count": null,
   "metadata": {
    "colab": {
     "base_uri": "https://localhost:8080/"
    },
    "id": "OXJkpxvxboaC",
    "outputId": "00538056-1927-48ea-f9ca-fb64bb9be035"
   },
   "outputs": [
    {
     "name": "stdout",
     "output_type": "stream",
     "text": [
      "/c/en/swedish\n",
      "/c/en/irish\n",
      "/c/en/mexican\n",
      "/c/en/chinese\n",
      "/c/en/filipino\n",
      "/c/en/german\n",
      "/c/en/english\n",
      "/c/en/french\n",
      "/c/en/norwegian\n",
      "/c/en/american\n",
      "/c/en/indian\n",
      "/c/en/dutch\n",
      "/c/en/russian\n",
      "/c/en/scottish\n",
      "/c/en/italian\n",
      "Std Logistic Regression \n",
      "Predictions : \n",
      "Demographic word      Negative Sentiment       Label        \n",
      "swedish                         0.645             1                   \n",
      "irish                           0.649             1                   \n",
      "mexican                         0.804             1                   \n",
      "chinese                         0.642             1                   \n",
      "filipino                        0.593             1                   \n",
      "german                          0.748             1                   \n",
      "english                         0.635             1                   \n",
      "french                          0.727             1                   \n",
      "norwegian                        0.58             1                   \n",
      "american                         0.62             1                   \n",
      "indian                           0.71             1                   \n",
      "dutch                           0.568             1                   \n",
      "russian                         0.853             1                   \n",
      "scottish                        0.449             0                   \n",
      "italian                         0.616             1                   \n"
     ]
    },
    {
     "data": {
      "image/png": "[encoded data removed]",
      "text/plain": [
       "<Figure size 720x360 with 1 Axes>"
      ]
     },
     "metadata": {
      "needs_background": "light",
      "tags": []
     },
     "output_type": "display_data"
    },
    {
     "name": "stdout",
     "output_type": "stream",
     "text": [
      " RNSB =  0.010990917609667326\n"
     ]
    }
   ],
   "source": [
    "# Training the Logistic Regression model and Predicting Negative sentiment for demographic words\n",
    "neg_association = Negative_Sentiment(SentiData, label_SentiData, LRmodel=\"StdLogReg\")\n",
    "\n",
    "fig = plt.figure(figsize=(10,5))\n",
    "ax = fig.add_axes([0,0,1,1])\n",
    "\n",
    "ax.bar(demo,neg_association)\n",
    "plt.show()\n",
    "\n",
    "#U = np.array([1/(len(demo))]*len(demo))\n",
    "P= neg_association\n",
    "RNSB =  sum(P * np.log(P/U))\n",
    "print(\" RNSB = \", RNSB)"
   ]
  },
  {
   "cell_type": "markdown",
   "metadata": {
    "id": "iw0c4jmIboaF"
   },
   "source": [
    "### Lasso Regression"
   ]
  },
  {
   "cell_type": "code",
   "execution_count": null,
   "metadata": {
    "colab": {
     "base_uri": "https://localhost:8080/"
    },
    "id": "g1mnKYgIboaG",
    "outputId": "c8adea1b-02e2-4b36-d44e-72b30b74aed3"
   },
   "outputs": [
    {
     "name": "stdout",
     "output_type": "stream",
     "text": [
      "/c/en/swedish\n",
      "/c/en/irish\n",
      "/c/en/mexican\n",
      "/c/en/chinese\n",
      "/c/en/filipino\n",
      "/c/en/german\n",
      "/c/en/english\n",
      "/c/en/french\n",
      "/c/en/norwegian\n",
      "/c/en/american\n",
      "/c/en/indian\n",
      "/c/en/dutch\n",
      "/c/en/russian\n",
      "/c/en/scottish\n",
      "/c/en/italian\n",
      "Lasso Regression \n",
      "Predictions : \n",
      "Demographic word      Negative Sentiment\n",
      "swedish                         0.508             \n",
      "irish                           0.439             \n",
      "mexican                         0.579             \n",
      "chinese                         0.418             \n",
      "filipino                        0.533             \n",
      "german                          0.502             \n",
      "english                         0.423             \n",
      "french                          0.474             \n",
      "norwegian                       0.533             \n",
      "american                         0.49             \n",
      "indian                          0.495             \n",
      "dutch                           0.484             \n",
      "russian                         0.619             \n",
      "scottish                        0.382             \n",
      "italian                         0.483             \n"
     ]
    },
    {
     "data": {
      "image/png": "[encoded data removed]",
      "text/plain": [
       "<Figure size 720x360 with 1 Axes>"
      ]
     },
     "metadata": {
      "needs_background": "light",
      "tags": []
     },
     "output_type": "display_data"
    },
    {
     "name": "stdout",
     "output_type": "stream",
     "text": [
      " RNSB =  0.007309755574459566\n"
     ]
    }
   ],
   "source": [
    "# Training the Logistic Regression model and Predicting Negative sentiment for demographic words\n",
    "neg_association = Negative_Sentiment(SentiData, label_SentiData, LRmodel=\"LassoReg\")\n",
    "\n",
    "\n",
    "fig = plt.figure(figsize=(10,5))\n",
    "ax = fig.add_axes([0,0,1,1])\n",
    "\n",
    "ax.bar(demo,neg_association)\n",
    "plt.show()\n",
    "#print(U)\n",
    "\n",
    "U = np.array([1/(len(demo))]*len(demo))\n",
    "P= neg_association\n",
    "RNSB = sum (P * np.log(P/U))\n",
    "print(\" RNSB = \", RNSB)"
   ]
  },
  {
   "cell_type": "code",
   "execution_count": null,
   "metadata": {
    "colab": {
     "base_uri": "https://localhost:8080/",
     "height": 34
    },
    "id": "RQVjMjekboaI",
    "outputId": "25f92452-303b-4086-d4b9-a2acd5a8502f"
   },
   "outputs": [
    {
     "name": "stdout",
     "output_type": "stream",
     "text": [
      " RNSB =  0.031860413568441714\n"
     ]
    }
   ],
   "source": []
  },
  {
   "cell_type": "markdown",
   "metadata": {
    "id": "MLuSYoXpboaM"
   },
   "source": [
    "### LassoCV"
   ]
  },
  {
   "cell_type": "code",
   "execution_count": null,
   "metadata": {
    "colab": {
     "base_uri": "https://localhost:8080/"
    },
    "id": "kSTh0pK9boaM",
    "outputId": "134304d5-7229-4073-81be-8001cfa2c38c"
   },
   "outputs": [
    {
     "name": "stdout",
     "output_type": "stream",
     "text": [
      "/c/en/swedish\n",
      "/c/en/irish\n",
      "/c/en/mexican\n",
      "/c/en/chinese\n",
      "/c/en/filipino\n",
      "/c/en/german\n",
      "/c/en/english\n",
      "/c/en/french\n",
      "/c/en/norwegian\n",
      "/c/en/american\n",
      "/c/en/indian\n",
      "/c/en/dutch\n",
      "/c/en/russian\n",
      "/c/en/scottish\n",
      "/c/en/italian\n",
      "Lasso Regression CV \n",
      "Predictions : \n",
      "Demographic word      Negative Sentiment\n",
      "swedish                         0.565             \n",
      "irish                           0.512             \n",
      "mexican                         0.702             \n",
      "chinese                          0.61             \n",
      "filipino                        0.629             \n",
      "german                          0.606             \n",
      "english                         0.387             \n",
      "french                          0.489             \n",
      "norwegian                       0.571             \n",
      "american                        0.494             \n",
      "indian                          0.552             \n",
      "dutch                           0.556             \n",
      "russian                         0.743             \n",
      "scottish                         0.49             \n",
      "italian                         0.597             \n"
     ]
    },
    {
     "data": {
      "image/png": "[encoded data removed]",
      "text/plain": [
       "<Figure size 720x360 with 1 Axes>"
      ]
     },
     "metadata": {
      "needs_background": "light",
      "tags": []
     },
     "output_type": "display_data"
    },
    {
     "name": "stdout",
     "output_type": "stream",
     "text": [
      " RNSB =  0.011530731193444246\n"
     ]
    }
   ],
   "source": [
    "# Training the Logistic Regression model and Predicting Negative sentiment for demographic words\n",
    "neg_association = Negative_Sentiment(SentiData, label_SentiData, LRmodel=\"LassoRegCV\")\n",
    "U = np.array([1/(len(demo))]*len(demo))\n",
    "\n",
    "fig = plt.figure(figsize=(10,5))\n",
    "ax = fig.add_axes([0,0,1,1])\n",
    "\n",
    "ax.bar(demo,neg_association)\n",
    "plt.show()\n",
    "\n",
    "#U = np.array([1/(len(demo))]*len(demo))\n",
    "P= neg_association\n",
    "RNSB =  sum(P * np.log(P/U))\n",
    "print(\" RNSB = \", RNSB)"
   ]
  },
  {
   "cell_type": "code",
   "execution_count": null,
   "metadata": {
    "colab": {
     "base_uri": "https://localhost:8080/",
     "height": 34
    },
    "id": "U1h8oyZpboaO",
    "outputId": "25f92452-303b-4086-d4b9-a2acd5a8502f"
   },
   "outputs": [
    {
     "name": "stdout",
     "output_type": "stream",
     "text": [
      " RNSB =  0.031860413568441714\n"
     ]
    }
   ],
   "source": [
    "U = np.array([1/(len(demo))]*len(demo))\n",
    "P= neg_association\n",
    "RNSB = sum (P * np.log(P/U))\n",
    "print(\" RNSB = \", RNSB)"
   ]
  },
  {
   "cell_type": "markdown",
   "metadata": {
    "id": "C8njKg0GgN4w"
   },
   "source": [
    "# GloVe"
   ]
  },
  {
   "cell_type": "code",
   "execution_count": null,
   "metadata": {
    "colab": {
     "base_uri": "https://localhost:8080/",
     "height": 435
    },
    "id": "jx5t3N_uiniI",
    "outputId": "205b9a99-e22c-46c4-cad3-8be9663fb607"
   },
   "outputs": [
    {
     "name": "stdout",
     "output_type": "stream",
     "text": [
      "--2020-05-20 00:48:06--  http://nlp.stanford.edu/data/glove.6B.zip\n",
      "Resolving nlp.stanford.edu (nlp.stanford.edu)... 171.64.67.140\n",
      "Connecting to nlp.stanford.edu (nlp.stanford.edu)|171.64.67.140|:80... connected.\n",
      "HTTP request sent, awaiting response... 302 Found\n",
      "Location: https://nlp.stanford.edu/data/glove.6B.zip [following]\n",
      "--2020-05-20 00:48:06--  https://nlp.stanford.edu/data/glove.6B.zip\n",
      "Connecting to nlp.stanford.edu (nlp.stanford.edu)|171.64.67.140|:443... connected.\n",
      "HTTP request sent, awaiting response... 301 Moved Permanently\n",
      "Location: http://downloads.cs.stanford.edu/nlp/data/glove.6B.zip [following]\n",
      "--2020-05-20 00:48:07--  http://downloads.cs.stanford.edu/nlp/data/glove.6B.zip\n",
      "Resolving downloads.cs.stanford.edu (downloads.cs.stanford.edu)... 171.64.64.22\n",
      "Connecting to downloads.cs.stanford.edu (downloads.cs.stanford.edu)|171.64.64.22|:80... connected.\n",
      "HTTP request sent, awaiting response... 200 OK\n",
      "Length: 862182613 (822M) [application/zip]\n",
      "Saving to: ‘glove.6B.zip’\n",
      "\n",
      "glove.6B.zip        100%[===================>] 822.24M  2.04MB/s    in 6m 29s  \n",
      "\n",
      "2020-05-20 00:54:37 (2.11 MB/s) - ‘glove.6B.zip’ saved [862182613/862182613]\n",
      "\n",
      "Archive:  glove.6B.zip\n",
      "  inflating: glove.6B.50d.txt        \n",
      "  inflating: glove.6B.100d.txt       \n",
      "  inflating: glove.6B.200d.txt       \n",
      "replace glove.6B.300d.txt? [y]es, [n]o, [A]ll, [N]one, [r]ename: "
     ]
    }
   ],
   "source": [
    "!wget http://nlp.stanford.edu/data/glove.6B.zip\n"
   ]
  },
  {
   "cell_type": "code",
   "execution_count": null,
   "metadata": {
    "colab": {
     "base_uri": "https://localhost:8080/",
     "height": 167
    },
    "id": "dAx9QhXdlMWQ",
    "outputId": "9c87597e-494b-4157-88ee-fe50ac2a98f0"
   },
   "outputs": [
    {
     "name": "stdout",
     "output_type": "stream",
     "text": [
      "Archive:  glove.6B.zip\n",
      "replace glove.6B.50d.txt? [y]es, [n]o, [A]ll, [N]one, [r]ename: y\n",
      "  inflating: glove.6B.50d.txt        \n",
      "replace glove.6B.100d.txt? [y]es, [n]o, [A]ll, [N]one, [r]ename: y\n",
      "  inflating: glove.6B.100d.txt       \n",
      "replace glove.6B.200d.txt? [y]es, [n]o, [A]ll, [N]one, [r]ename: y\n",
      "  inflating: glove.6B.200d.txt       \n",
      "replace glove.6B.300d.txt? [y]es, [n]o, [A]ll, [N]one, [r]ename: y\n",
      "  inflating: glove.6B.300d.txt       \n"
     ]
    }
   ],
   "source": [
    "!unzip glove*.zip"
   ]
  },
  {
   "cell_type": "code",
   "execution_count": null,
   "metadata": {
    "colab": {
     "base_uri": "https://localhost:8080/",
     "height": 84
    },
    "id": "OFAzyh36jTUz",
    "outputId": "20ca8275-7b3a-47d5-d9fb-d7cc92183dc7"
   },
   "outputs": [
    {
     "name": "stdout",
     "output_type": "stream",
     "text": [
      "glove.6B.100d.txt  glove.6B.50d.txt    numberbatch-17.06.txt  sample_data\n",
      "glove.6B.200d.txt  glove.6B.zip        numberbatch-en.txt\n",
      "glove.6B.300d.txt  negative-words.txt  positive-words.txt\n",
      "/content\n"
     ]
    }
   ],
   "source": [
    "!ls\n",
    "!pwd"
   ]
  },
  {
   "cell_type": "code",
   "execution_count": null,
   "metadata": {
    "colab": {
     "base_uri": "https://localhost:8080/",
     "height": 33
    },
    "id": "s-6WNxspjbQH",
    "outputId": "db09924f-dc29-4b33-b1cb-dbaf7685e9d4"
   },
   "outputs": [
    {
     "name": "stdout",
     "output_type": "stream",
     "text": [
      "Indexing word vectors.\n"
     ]
    }
   ],
   "source": [
    "print('Indexing word vectors.')\n",
    "\n",
    "embeddings_index = {}\n",
    "f = open('glove.6B.300d.txt', encoding='utf-8')\n",
    "for line in f:\n",
    "    values = line.split()\n",
    "    word = values[0]\n",
    "    coefs = np.asarray(values[1:], dtype='float32')\n",
    "    embeddings_index[word] = coefs\n",
    "f.close()"
   ]
  },
  {
   "cell_type": "code",
   "execution_count": null,
   "metadata": {
    "id": "e2P6d6OYmbqx"
   },
   "outputs": [],
   "source": [
    "# Function for Retrieving word vectors for words present in the GLOVE model's vocabulary  \n",
    "\n",
    "def Retrieve_Vectors_GV(comb_data,label_comb_data):\n",
    "  j =0 \n",
    "  #wordvec_length = 300\n",
    "  missing = []\n",
    "  present = []\n",
    "  sd = np.zeros((len(comb_data), wordvec_length))\n",
    "  label_sd = np.zeros(len(comb_data))\n",
    "\n",
    "  for i in range(len(comb_data)):\n",
    "    if comb_data[i] in embeddings_index: \n",
    "      sd[j] = embeddings_index[comb_data[i]] #if present copy vector\n",
    "      present.append((int(i),int(j), comb_data[i])) #log of words missing in vocab\n",
    "      label_sd[j] = label_comb_data[i] #if present copy vector label\n",
    "      j+=1\n",
    "    else:\n",
    "      missing.append((i, comb_data[i]))\n",
    "      #print(comb_data[i])\n",
    "  print(\"Number of words not present in model : \",len(missing))\n",
    "  print(\"Number of word vectors retrieved from model : \",len(present))\n",
    "  # Final data set\n",
    "  SentiData = sd[0:j,:]\n",
    "  #print(SentiData.shape, SentiData[1])\n",
    "  label_SentiData = label_sd[0:j]\n",
    "  #print(label_SentiData.shape)\n",
    "  return SentiData, label_SentiData"
   ]
  },
  {
   "cell_type": "code",
   "execution_count": null,
   "metadata": {
    "colab": {
     "base_uri": "https://localhost:8080/",
     "height": 33
    },
    "id": "T-uZwBtMm6hm",
    "outputId": "3e2ae9be-005d-48a2-d1bf-bdb8054bce6a"
   },
   "outputs": [
    {
     "name": "stdout",
     "output_type": "stream",
     "text": [
      "yes\n"
     ]
    }
   ],
   "source": [
    "if comb_data[5] in embeddings_index:\n",
    "  print(\"yes\")"
   ]
  },
  {
   "cell_type": "code",
   "execution_count": null,
   "metadata": {
    "id": "oBQrembNmb8a"
   },
   "outputs": [],
   "source": [
    "def Negative_Sentiment_Glove(SentiData, label_SentiData, LRmodel):\n",
    "  x_train, x_test, y_train, y_test = train_test_split(SentiData, label_SentiData, test_size = 0.3)\n",
    "\n",
    "  demo_vecs = Test_Vector_GL(demo)\n",
    "\n",
    "  if LRmodel == \"StdLogReg\":\n",
    "    print(\"Std Logistic Regression \")\n",
    "    LogReg = LogisticRegression()\n",
    "    LogReg.fit(x_train, y_train )\n",
    "\n",
    "    \n",
    "    # Predict sentiment of demographic words\n",
    "    predict_demo = LogReg.predict_proba(demo_vecs)\n",
    "    labels = LogReg.predict(demo_vecs)\n",
    "    print(\"Predictions : \")\n",
    "    print('{:<20s}{:>20s}{:^20s}'.format(\"Demographic word\",\"Negative Sentiment\",\"Label\"))\n",
    "    for i in range(len(demo)):\n",
    "      #print(demo[i], '\\t: ', round(predict_demo[i][1], 3), \"\\t label: \",labels[i]) \n",
    "      print('{:<20}{:^30}{:<20d}'.format(demo[i], round(predict_demo[i][1], 3), int(labels[i])))\n",
    "\n",
    "    neg_association=[]\n",
    "    for i in range(len(demo)):\n",
    "      neg_association.append( round(predict_demo[i][1], 3))\n",
    "    \n",
    "    \n",
    "    #print(neg_association)\n",
    "  \n",
    "  ############################################################################\n",
    "\n",
    "  elif LRmodel == \"LassoReg\": \n",
    "    print(\"Lasso Regression \")\n",
    "    LassoReg = Lasso(alpha=0.001)\n",
    "    LassoReg.fit(x_train, y_train )\n",
    "\n",
    "    # Predict sentiment of demographic words\n",
    "    predict_demo = LassoReg.predict(demo_vecs)\n",
    "    #labels = LassoReg.predict(demo_vecs)\n",
    "\n",
    "    print(\"Predictions : \")\n",
    "    print('{:<20s}{:>20s}'.format(\"Demographic word\",\"Negative Sentiment\"))\n",
    "    for i in range(len(demo)):\n",
    "      #print(demo[i], '\\t: ', round(predict_demo[i][1], 3), \"\\t label: \",labels[i]) \n",
    "      print('{:<20}{:^30}'.format(demo[i], round(predict_demo[i], 3)))\n",
    "\n",
    "    neg_association=[]\n",
    "    for i in range(len(demo)):\n",
    "      neg_association.append(round(predict_demo[i], 3))\n",
    "    #print(neg_association)\n",
    "\n",
    "  ############################################################################\n",
    "  #Retrive word vectors for demographic words\n",
    "  elif LRmodel == \"LassoRegCV\": \n",
    "    print(\"Lasso Regression CV \")\n",
    "    LassoRegCV = LassoCV(cv= 5 )\n",
    "    LassoRegCV.fit(x_train, y_train )\n",
    "\n",
    "    # Predict sentiment of demographic words\n",
    "    predict_demo = LassoRegCV.predict(demo_vecs)\n",
    "    #labels = LassoReg.predict(demo_vecs)\n",
    "\n",
    "    print(\"Predictions : \")\n",
    "    print('{:<20s}{:>20s}'.format(\"Demographic word\",\"Negative Sentiment\"))\n",
    "    for i in range(len(demo)):\n",
    "      print('{:<20}{:^30}'.format(demo[i], round(predict_demo[i], 3)))\n",
    "\n",
    "    neg_association=[]\n",
    "    for i in range(len(demo)):\n",
    "      neg_association.append(round(predict_demo[i], 3))\n",
    "    #print(neg_association)\n",
    "\n",
    "  total = sum(neg_association)\n",
    "  #print(sum)\n",
    "  U = np.array([1/(len(demo))]*len(demo))\n",
    "  for i in range(len(demo)):\n",
    "    neg_association[i] = neg_association[i] / total\n",
    "  return neg_association"
   ]
  },
  {
   "cell_type": "code",
   "execution_count": null,
   "metadata": {
    "id": "vyiXPdFTnhTa"
   },
   "outputs": [],
   "source": [
    "#Retrive word vectors for demographic words\n",
    "def Test_Vector_GL(demo):\n",
    "    i=0\n",
    "    demo_vecs = np.zeros((len(demo),wordvec_length ))\n",
    "    for i in range(len(demo)):\n",
    "      if demo[i] in embeddings_index:\n",
    "        demo_vecs[i] = embeddings_index[demo[i]]\n",
    "        #print(i)\n",
    "    #print(demo_vecs[1].shape, demo_vecs[1])\n",
    "    return demo_vecs\n",
    "        "
   ]
  },
  {
   "cell_type": "code",
   "execution_count": null,
   "metadata": {
    "id": "9zhCdQI9mb8c"
   },
   "outputs": [],
   "source": [
    "demo = ['swedish', 'irish', 'mexican','chinese','filipino','german','english','french','norwegian','american','indian','dutch','russian','scottish','italian']\n",
    "#demo = ['gay', 'awful', 'beautiful', 'transgender', 'lesbian', 'sex', 'bisexual','pansexual']"
   ]
  },
  {
   "cell_type": "markdown",
   "metadata": {
    "id": "heAVo_4zmb8d"
   },
   "source": [
    "## With Upsampled Data"
   ]
  },
  {
   "cell_type": "code",
   "execution_count": null,
   "metadata": {
    "colab": {
     "base_uri": "https://localhost:8080/",
     "height": 167
    },
    "id": "763aGlwgmb8d",
    "outputId": "17c69a98-759d-4510-fa7b-34b5ec19ccc1"
   },
   "outputs": [
    {
     "name": "stdout",
     "output_type": "stream",
     "text": [
      "Length of upsampled positive words: 4014\n",
      "\n",
      "Negative sentiment data:  ['2-faced' '2-faces' 'abnormal' ... 'zealously' 'zombie' '']\n",
      "Label for Negative sentiment :  1.0\n",
      "\n",
      "Positive sentiment data:  ['a+' 'abound' 'abounds' ... 'zest' 'zippy' '']\n",
      "Label for Negative sentiment :  0.0\n",
      "\n",
      "Length of combined data:  8798\n"
     ]
    }
   ],
   "source": [
    "# Upsampling Positive sentiment dataset \n",
    "posdata= posdata_init + posdata_init\n",
    "print(\"Length of upsampled positive words:\",len(posdata))\n",
    "\n",
    "# For upsampled data\n",
    "comb_data,label_comb_data = DataPrep(negdata, posdata)\n"
   ]
  },
  {
   "cell_type": "code",
   "execution_count": null,
   "metadata": {
    "colab": {
     "base_uri": "https://localhost:8080/",
     "height": 50
    },
    "id": "Jo4FqKVImb8f",
    "outputId": "55982c4d-f5bb-4693-e34d-d394a67a2c1b"
   },
   "outputs": [
    {
     "name": "stdout",
     "output_type": "stream",
     "text": [
      "Number of words not present in model :  667\n",
      "Number of word vectors retrieved from model :  8131\n"
     ]
    }
   ],
   "source": [
    "# Retrieving word vectors\n",
    "SentiData, label_SentiData = Retrieve_Vectors_GV(comb_data, label_comb_data)"
   ]
  },
  {
   "cell_type": "markdown",
   "metadata": {
    "id": "VSaIET8Cmb8i"
   },
   "source": [
    "### Std Logistic Regression"
   ]
  },
  {
   "cell_type": "code",
   "execution_count": null,
   "metadata": {
    "colab": {
     "base_uri": "https://localhost:8080/",
     "height": 726
    },
    "id": "BA6xYQ0Imb8j",
    "outputId": "13805ce6-1cbd-47a2-9a45-3e1464730200"
   },
   "outputs": [
    {
     "name": "stdout",
     "output_type": "stream",
     "text": [
      "Std Logistic Regression \n",
      "Predictions : \n",
      "Demographic word      Negative Sentiment       Label        \n",
      "swedish                         0.022             0                   \n",
      "irish                           0.102             0                   \n",
      "mexican                         0.375             0                   \n",
      "chinese                         0.005             0                   \n",
      "filipino                        0.065             0                   \n",
      "german                          0.023             0                   \n",
      "english                         0.028             0                   \n",
      "french                          0.059             0                   \n",
      "norwegian                        0.09             0                   \n",
      "american                        0.158             0                   \n",
      "indian                          0.448             0                   \n",
      "dutch                           0.257             0                   \n",
      "russian                         0.341             0                   \n",
      "scottish                        0.026             0                   \n",
      "italian                         0.012             0                   \n"
     ]
    },
    {
     "data": {
      "image/png": "[encoded data removed]",
      "text/plain": [
       "<Figure size 720x360 with 1 Axes>"
      ]
     },
     "metadata": {
      "needs_background": "light",
      "tags": []
     },
     "output_type": "display_data"
    },
    {
     "name": "stdout",
     "output_type": "stream",
     "text": [
      " RNSB =  0.530234023285076\n"
     ]
    }
   ],
   "source": [
    "# Training the Logistic Regression model and Predicting Negative sentiment for demographic words\n",
    "neg_association = Negative_Sentiment_Glove(SentiData, label_SentiData, LRmodel=\"StdLogReg\")\n",
    "\n",
    "fig = plt.figure(figsize=(10,5))\n",
    "ax = fig.add_axes([0,0,1,1])\n",
    "\n",
    "ax.bar(demo,neg_association)\n",
    "plt.show()\n",
    "\n",
    "U = np.array([1/(len(demo))]*len(demo))\n",
    "P= neg_association\n",
    "RNSB =  sum(P * np.log(P/U))\n",
    "print(\" RNSB = \", RNSB)"
   ]
  },
  {
   "cell_type": "markdown",
   "metadata": {
    "id": "P3Uty3PRmb8k"
   },
   "source": [
    "### Lasso Regression"
   ]
  },
  {
   "cell_type": "code",
   "execution_count": null,
   "metadata": {
    "colab": {
     "base_uri": "https://localhost:8080/",
     "height": 726
    },
    "id": "D9DEQPy5mb8k",
    "outputId": "eb5ccac4-6ab5-4452-ce12-d0c999b0b9c5"
   },
   "outputs": [
    {
     "name": "stdout",
     "output_type": "stream",
     "text": [
      "Lasso Regression \n",
      "Predictions : \n",
      "Demographic word      Negative Sentiment\n",
      "swedish                         0.216             \n",
      "irish                           0.229             \n",
      "mexican                         0.433             \n",
      "chinese                         0.074             \n",
      "filipino                        0.213             \n",
      "german                          0.217             \n",
      "english                         0.244             \n",
      "french                          0.255             \n",
      "norwegian                       0.335             \n",
      "american                        0.405             \n",
      "indian                          0.596             \n",
      "dutch                           0.316             \n",
      "russian                         0.487             \n",
      "scottish                        0.247             \n",
      "italian                         0.116             \n"
     ]
    },
    {
     "data": {
      "image/png": "[encoded data removed]",
      "text/plain": [
       "<Figure size 720x360 with 1 Axes>"
      ]
     },
     "metadata": {
      "needs_background": "light",
      "tags": []
     },
     "output_type": "display_data"
    },
    {
     "name": "stdout",
     "output_type": "stream",
     "text": [
      " RNSB =  0.10601185721040124\n"
     ]
    }
   ],
   "source": [
    "# Training the Logistic Regression model and Predicting Negative sentiment for demographic words\n",
    "neg_association = Negative_Sentiment_Glove(SentiData, label_SentiData, LRmodel=\"LassoReg\")\n",
    "\n",
    "\n",
    "fig = plt.figure(figsize=(10,5))\n",
    "ax = fig.add_axes([0,0,1,1])\n",
    "\n",
    "ax.bar(demo,neg_association)\n",
    "plt.show()\n",
    "#print(U)\n",
    "\n",
    "U = np.array([1/(len(demo))]*len(demo))\n",
    "P= neg_association\n",
    "RNSB =  sum(P * np.log(P/U))\n",
    "print(\" RNSB = \", RNSB)"
   ]
  },
  {
   "cell_type": "markdown",
   "metadata": {
    "id": "uGa4N2iXmb8n"
   },
   "source": [
    "### LassoCV"
   ]
  },
  {
   "cell_type": "code",
   "execution_count": null,
   "metadata": {
    "colab": {
     "base_uri": "https://localhost:8080/",
     "height": 726
    },
    "id": "eGRvf4Vxmb8n",
    "outputId": "2a2b5272-93bb-461c-a4f3-8545036154e8"
   },
   "outputs": [
    {
     "name": "stdout",
     "output_type": "stream",
     "text": [
      "Lasso Regression CV \n",
      "Predictions : \n",
      "Demographic word      Negative Sentiment\n",
      "swedish                         0.232             \n",
      "irish                           0.185             \n",
      "mexican                         0.425             \n",
      "chinese                         0.183             \n",
      "filipino                        0.204             \n",
      "german                          0.239             \n",
      "english                         0.183             \n",
      "french                          0.198             \n",
      "norwegian                       0.332             \n",
      "american                        0.342             \n",
      "indian                          0.484             \n",
      "dutch                           0.318             \n",
      "russian                         0.393             \n",
      "scottish                        0.133             \n",
      "italian                         0.066             \n"
     ]
    },
    {
     "data": {
      "image/png": "[encoded data removed]",
      "text/plain": [
       "<Figure size 720x360 with 1 Axes>"
      ]
     },
     "metadata": {
      "needs_background": "light",
      "tags": []
     },
     "output_type": "display_data"
    },
    {
     "name": "stdout",
     "output_type": "stream",
     "text": [
      " RNSB =  0.09516269106537259\n"
     ]
    }
   ],
   "source": [
    "# Training the Logistic Regression model and Predicting Negative sentiment for demographic words\n",
    "neg_association = Negative_Sentiment_Glove(SentiData, label_SentiData, LRmodel=\"LassoRegCV\")\n",
    "U = np.array([1/(len(demo))]*len(demo))\n",
    "\n",
    "fig = plt.figure(figsize=(10,5))\n",
    "ax = fig.add_axes([0,0,1,1])\n",
    "\n",
    "ax.bar(demo,neg_association)\n",
    "plt.show()\n",
    "U = np.array([1/(len(demo))]*len(demo))\n",
    "P= neg_association\n",
    "RNSB =  sum(P * np.log(P/U))\n",
    "print(\" RNSB = \", RNSB)"
   ]
  },
  {
   "cell_type": "markdown",
   "metadata": {
    "id": "T8ORg4JUmb8y"
   },
   "source": [
    "## LGBT Terms"
   ]
  },
  {
   "cell_type": "code",
   "execution_count": null,
   "metadata": {
    "colab": {
     "base_uri": "https://localhost:8080/",
     "height": 33
    },
    "id": "bpIvy2LNmb8y",
    "outputId": "56bcdd88-c14d-440a-d253-b891b3e3519e"
   },
   "outputs": [
    {
     "data": {
      "text/plain": [
       "19"
      ]
     },
     "execution_count": 243,
     "metadata": {
      "tags": []
     },
     "output_type": "execute_result"
    }
   ],
   "source": [
    "demo =['lesbian', 'gay', 'bisexual', 'transgender', 'heterosexism' , 'homophobia', 'biphobia', 'transphobia' ,'subcultures', 'androgynous', 'asexual',\n",
    "             'cisgender','closeted','drag','heterosexual ','homosexual','intersex','pansexual','queer']\n",
    "len(demo)"
   ]
  },
  {
   "cell_type": "code",
   "execution_count": null,
   "metadata": {
    "colab": {
     "base_uri": "https://localhost:8080/",
     "height": 167
    },
    "id": "8SFRZ5JOmb8z",
    "outputId": "922a5cc7-b22b-43b9-ff1b-0f5145884e83"
   },
   "outputs": [
    {
     "name": "stdout",
     "output_type": "stream",
     "text": [
      "Length of upsampled positive words: 4014\n",
      "\n",
      "Negative sentiment data:  ['2-faced' '2-faces' 'abnormal' ... 'zealously' 'zombie' '']\n",
      "Label for Negative sentiment :  1.0\n",
      "\n",
      "Positive sentiment data:  ['a+' 'abound' 'abounds' ... 'zest' 'zippy' '']\n",
      "Label for Negative sentiment :  0.0\n",
      "\n",
      "Length of combined data:  8798\n"
     ]
    }
   ],
   "source": [
    "# Upsampling Positive sentiment dataset \n",
    "posdata= posdata_init + posdata_init\n",
    "print(\"Length of upsampled positive words:\",len(posdata))\n",
    "\n",
    "# For upsampled data\n",
    "comb_data,label_comb_data = DataPrep(negdata, posdata)\n"
   ]
  },
  {
   "cell_type": "code",
   "execution_count": null,
   "metadata": {
    "colab": {
     "base_uri": "https://localhost:8080/",
     "height": 50
    },
    "id": "hylei9-Bmb80",
    "outputId": "bd1d7da2-bf8b-497c-a067-df4809c7ff2c"
   },
   "outputs": [
    {
     "name": "stdout",
     "output_type": "stream",
     "text": [
      "Number of words not present in model :  667\n",
      "Number of word vectors retrieved from model :  8131\n"
     ]
    }
   ],
   "source": [
    "# Retrieving word vectors\n",
    "SentiData, label_SentiData = Retrieve_Vectors_GV(comb_data, label_comb_data)"
   ]
  },
  {
   "cell_type": "markdown",
   "metadata": {
    "id": "hXtWozGBmb81"
   },
   "source": [
    "### Std Logistic Regression"
   ]
  },
  {
   "cell_type": "code",
   "execution_count": null,
   "metadata": {
    "colab": {
     "base_uri": "https://localhost:8080/",
     "height": 738
    },
    "id": "QSXozXZhmb81",
    "outputId": "7b014e6b-2aa5-4b38-875a-ea53afda5188"
   },
   "outputs": [
    {
     "name": "stdout",
     "output_type": "stream",
     "text": [
      "Std Logistic Regression \n",
      "Predictions : \n",
      "Demographic word      Negative Sentiment       Label        \n",
      "lesbian                         0.211             0                   \n",
      "gay                             0.141             0                   \n",
      "bisexual                        0.939             1                   \n",
      "transgender                      0.62             1                   \n",
      "heterosexism                    0.494             0                   \n",
      "homophobia                      0.992             1                   \n",
      "biphobia                        0.556             1                   \n",
      "transphobia                     0.987             1                   \n",
      "subcultures                     0.622             1                   \n",
      "androgynous                      0.49             0                   \n",
      "asexual                         0.972             1                   \n",
      "cisgender                       0.877             1                   \n",
      "closeted                        0.995             1                   \n",
      "drag                            0.939             1                   \n",
      "heterosexual                    0.556             1                   \n",
      "homosexual                       0.98             1                   \n",
      "intersex                         0.92             1                   \n",
      "pansexual                       0.104             0                   \n",
      "queer                           0.862             1                   \n"
     ]
    },
    {
     "data": {
      "image/png": "[encoded data removed]",
      "text/plain": [
       "<Figure size 1440x360 with 1 Axes>"
      ]
     },
     "metadata": {
      "needs_background": "light",
      "tags": []
     },
     "output_type": "display_data"
    },
    {
     "name": "stdout",
     "output_type": "stream",
     "text": [
      " RNSB =  0.1114734539974962\n"
     ]
    }
   ],
   "source": [
    "# Training the Logistic Regression model and Predicting Negative sentiment for demographic words\n",
    "neg_association = Negative_Sentiment_Glove(SentiData, label_SentiData, LRmodel=\"StdLogReg\")\n",
    "\n",
    "\n",
    "fig = plt.figure(figsize=(20,5))\n",
    "ax = fig.add_axes([0,0,1,1])\n",
    "\n",
    "ax.bar(demo,neg_association)\n",
    "plt.show()\n",
    "\n",
    "U = np.array([1/(len(demo))]*len(demo))\n",
    "P= neg_association\n",
    "RNSB =  sum(P * np.log(P/U))\n",
    "print(\" RNSB = \", RNSB)"
   ]
  },
  {
   "cell_type": "markdown",
   "metadata": {
    "id": "5aUSUWiAmb82"
   },
   "source": [
    "### Lasso Regression"
   ]
  },
  {
   "cell_type": "code",
   "execution_count": null,
   "metadata": {
    "colab": {
     "base_uri": "https://localhost:8080/",
     "height": 738
    },
    "id": "U_DrJ-OYmb82",
    "outputId": "95693ed6-c537-46cd-be96-3a4489b23084"
   },
   "outputs": [
    {
     "name": "stdout",
     "output_type": "stream",
     "text": [
      "Lasso Regression \n",
      "Predictions : \n",
      "Demographic word      Negative Sentiment\n",
      "lesbian                         0.417             \n",
      "gay                             0.571             \n",
      "bisexual                        0.785             \n",
      "transgender                     0.653             \n",
      "heterosexism                    0.546             \n",
      "homophobia                      0.961             \n",
      "biphobia                        0.506             \n",
      "transphobia                     0.788             \n",
      "subcultures                     0.513             \n",
      "androgynous                     0.505             \n",
      "asexual                         0.761             \n",
      "cisgender                       0.683             \n",
      "closeted                        1.003             \n",
      "drag                            0.858             \n",
      "heterosexual                    0.506             \n",
      "homosexual                      0.901             \n",
      "intersex                        0.777             \n",
      "pansexual                       0.312             \n",
      "queer                           0.655             \n"
     ]
    },
    {
     "data": {
      "image/png": "[encoded data removed]",
      "text/plain": [
       "<Figure size 1440x360 with 1 Axes>"
      ]
     },
     "metadata": {
      "needs_background": "light",
      "tags": []
     },
     "output_type": "display_data"
    },
    {
     "name": "stdout",
     "output_type": "stream",
     "text": [
      " RNSB =  0.03952687012079728\n"
     ]
    }
   ],
   "source": [
    "# Training the Logistic Regression model and Predicting Negative sentiment for demographic words\n",
    "neg_association = Negative_Sentiment_Glove(SentiData, label_SentiData, LRmodel=\"LassoReg\")\n",
    "\n",
    "fig = plt.figure(figsize=(20,5))\n",
    "ax = fig.add_axes([0,0,1,1])\n",
    "\n",
    "ax.bar(demo,neg_association)\n",
    "plt.show()\n",
    "\n",
    "U = np.array([1/(len(demo))]*len(demo))\n",
    "P= neg_association\n",
    "RNSB =  sum(P * np.log(P/U))\n",
    "print(\" RNSB = \", RNSB)"
   ]
  },
  {
   "cell_type": "markdown",
   "metadata": {
    "id": "lrTL6cvLmb83"
   },
   "source": [
    "### LassoCV"
   ]
  },
  {
   "cell_type": "code",
   "execution_count": null,
   "metadata": {
    "colab": {
     "base_uri": "https://localhost:8080/",
     "height": 738
    },
    "id": "xEkT06yxmb84",
    "outputId": "f346dd43-b876-419a-9416-b1819ffc33e9"
   },
   "outputs": [
    {
     "name": "stdout",
     "output_type": "stream",
     "text": [
      "Lasso Regression CV \n",
      "Predictions : \n",
      "Demographic word      Negative Sentiment\n",
      "lesbian                         0.466             \n",
      "gay                              0.5              \n",
      "bisexual                        0.814             \n",
      "transgender                     0.645             \n",
      "heterosexism                    0.596             \n",
      "homophobia                      1.029             \n",
      "biphobia                        0.522             \n",
      "transphobia                     0.817             \n",
      "subcultures                     0.624             \n",
      "androgynous                      0.54             \n",
      "asexual                         0.696             \n",
      "cisgender                       0.716             \n",
      "closeted                        0.957             \n",
      "drag                            0.814             \n",
      "heterosexual                    0.522             \n",
      "homosexual                      0.898             \n",
      "intersex                        0.842             \n",
      "pansexual                       0.416             \n",
      "queer                           0.698             \n"
     ]
    },
    {
     "data": {
      "image/png": "[encoded data removed]",
      "text/plain": [
       "<Figure size 1440x360 with 1 Axes>"
      ]
     },
     "metadata": {
      "needs_background": "light",
      "tags": []
     },
     "output_type": "display_data"
    },
    {
     "name": "stdout",
     "output_type": "stream",
     "text": [
      " RNSB =  0.030699297516313874\n"
     ]
    }
   ],
   "source": [
    "# Training the Logistic Regression model and Predicting Negative sentiment for demographic words\n",
    "neg_association = Negative_Sentiment_Glove(SentiData, label_SentiData, LRmodel=\"LassoRegCV\")\n",
    "\n",
    "\n",
    "fig = plt.figure(figsize=(20,5))\n",
    "ax = fig.add_axes([0,0,1,1])\n",
    "\n",
    "ax.bar(demo,neg_association)\n",
    "plt.show()\n",
    "\n",
    "U = np.array([1/(len(demo))]*len(demo))\n",
    "P= neg_association\n",
    "RNSB =  sum(P * np.log(P/U))\n",
    "print(\" RNSB = \", RNSB)"
   ]
  },
  {
   "cell_type": "code",
   "execution_count": null,
   "metadata": {
    "id": "0Tokf3ZlrR9O"
   },
   "outputs": [],
   "source": []
  }
 ],
 "metadata": {
  "colab": {
   "collapsed_sections": [
    "9JE8iHuXDjD3"
   ],
   "machine_shape": "hm",
   "name": "wv_1.ipynb",
   "provenance": []
  },
  "kernelspec": {
   "display_name": "Python 3",
   "language": "python",
   "name": "python3"
  },
  "language_info": {
   "codemirror_mode": {
    "name": "ipython",
    "version": 3
   },
   "file_extension": ".py",
   "mimetype": "text/x-python",
   "name": "python",
   "nbconvert_exporter": "python",
   "pygments_lexer": "ipython3",
   "version": "3.6.5"
  }
 },
 "nbformat": 4,
 "nbformat_minor": 1
}
